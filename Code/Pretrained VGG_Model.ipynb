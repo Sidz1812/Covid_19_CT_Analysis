{
  "nbformat": 4,
  "nbformat_minor": 0,
  "metadata": {
    "colab": {
      "name": "Homework 5.ipynb",
      "provenance": [],
      "collapsed_sections": [],
      "machine_shape": "hm"
    },
    "kernelspec": {
      "display_name": "Python 3",
      "language": "python",
      "name": "python3"
    },
    "language_info": {
      "codemirror_mode": {
        "name": "ipython",
        "version": 3
      },
      "file_extension": ".py",
      "mimetype": "text/x-python",
      "name": "python",
      "nbconvert_exporter": "python",
      "pygments_lexer": "ipython3",
      "version": "3.9.0"
    },
    "latex_envs": {
      "LaTeX_envs_menu_present": true,
      "autoclose": false,
      "autocomplete": true,
      "bibliofile": "biblio.bib",
      "cite_by": "apalike",
      "current_citInitial": 1,
      "eqLabelWithNumbers": true,
      "eqNumInitial": 1,
      "hotkeys": {
        "equation": "Ctrl-E",
        "itemize": "Ctrl-I"
      },
      "labels_anchors": false,
      "latex_user_defs": false,
      "report_style_numbering": false,
      "user_envs_cfg": false
    },
    "toc": {
      "base_numbering": 1,
      "nav_menu": {},
      "number_sections": true,
      "sideBar": true,
      "skip_h1_title": false,
      "title_cell": "Table of Contents",
      "title_sidebar": "Contents",
      "toc_cell": true,
      "toc_position": {},
      "toc_section_display": true,
      "toc_window_display": false
    }
  },
  "cells": [
    {
      "cell_type": "markdown",
      "source": [
        "- `COVID-19 CT scans`: https://github.com/UCSD-AI4H/COVID-CT/blob/master/Images-processed/CT_COVID.zip.\n",
        "- `Non-COVID-19 Scans`: https://github.com/UCSD-AI4H/COVID-CT/blob/master/Images-processed/CT_NonCOVID.zip."
      ],
      "metadata": {
        "id": "Gdk2JpKz_30U"
      }
    },
    {
      "cell_type": "code",
      "metadata": {
        "id": "59j1VoETeiHh",
        "colab": {
          "base_uri": "https://localhost:8080/"
        },
        "outputId": "8b9b7c6a-4d9d-4b04-c6f9-1130e757a78e"
      },
      "source": [
        "! pip install torchinfo"
      ],
      "execution_count": null,
      "outputs": [
        {
          "output_type": "stream",
          "name": "stdout",
          "text": [
            "Requirement already satisfied: torchinfo in /usr/local/lib/python3.7/dist-packages (1.6.5)\n"
          ]
        }
      ]
    },
    {
      "cell_type": "markdown",
      "source": [
        "**Mount Drive**"
      ],
      "metadata": {
        "id": "HgIFe1yXAAKJ"
      }
    },
    {
      "cell_type": "code",
      "metadata": {
        "colab": {
          "base_uri": "https://localhost:8080/"
        },
        "id": "yKTxSJY6d5PN",
        "outputId": "260159fd-eac8-4f0b-db8e-78e0db84b996"
      },
      "source": [
        "from google.colab import drive\n",
        "drive.mount('/content/drive')\n"
      ],
      "execution_count": null,
      "outputs": [
        {
          "output_type": "stream",
          "name": "stdout",
          "text": [
            "Drive already mounted at /content/drive; to attempt to forcibly remount, call drive.mount(\"/content/drive\", force_remount=True).\n"
          ]
        }
      ]
    },
    {
      "cell_type": "markdown",
      "source": [
        "**Import Libraries**"
      ],
      "metadata": {
        "id": "nufD6WXzAJha"
      }
    },
    {
      "cell_type": "code",
      "metadata": {
        "ExecuteTime": {
          "end_time": "2020-11-12T08:59:53.163994Z",
          "start_time": "2020-11-12T08:59:50.479974Z"
        },
        "id": "VtyiMk6Ws1l7"
      },
      "source": [
        "import os\n",
        "import glob\n",
        "import sklearn\n",
        "import concurrent\n",
        "import numpy as np\n",
        "from PIL import Image\n",
        "import zipfile\n",
        "import shutil\n",
        "import random\n",
        "\n",
        "\n",
        "os.environ['CUDA_LAUNCH_BLOCKING'] = \"1\"\n",
        "\n",
        "import torch\n",
        "import torch.nn as nn\n",
        "import torchvision\n",
        "import torchvision.transforms as transforms\n",
        "from torch.utils.data import DataLoader, random_split, Dataset\n",
        "from torchinfo import summary\n",
        "from sklearn.model_selection import train_test_split\n",
        "import matplotlib.pyplot as plt\n",
        "\n",
        "from IPython.core.interactiveshell import InteractiveShell\n",
        "InteractiveShell.ast_node_interactivity = \"all\"\n",
        "\n",
        "os.environ['CUDA_LAUNCH_BLOCKING'] = \"1\""
      ],
      "execution_count": null,
      "outputs": []
    },
    {
      "cell_type": "code",
      "metadata": {
        "id": "uxJYpmsjs1l8",
        "colab": {
          "base_uri": "https://localhost:8080/"
        },
        "outputId": "b1371aac-31da-4162-9302-6786acc3b213"
      },
      "source": [
        "random_seed = 124\n",
        "np.random.seed(random_seed)\n",
        "\n",
        "torch.manual_seed(random_seed)\n",
        "torch.backends.cudnn.deterministic = True"
      ],
      "execution_count": null,
      "outputs": [
        {
          "output_type": "execute_result",
          "data": {
            "text/plain": [
              "<torch._C.Generator at 0x7ff2169f2fd0>"
            ]
          },
          "metadata": {},
          "execution_count": 4
        }
      ]
    },
    {
      "cell_type": "markdown",
      "source": [
        "**Enable GPU**"
      ],
      "metadata": {
        "id": "bMszLpXFAVlf"
      }
    },
    {
      "cell_type": "code",
      "metadata": {
        "id": "trpq0JQyI7gN"
      },
      "source": [
        "device = torch.device(\"cuda\" if torch.cuda.is_available() else \"cpu\")"
      ],
      "execution_count": null,
      "outputs": []
    },
    {
      "cell_type": "markdown",
      "source": [
        "# Data Preprocessing"
      ],
      "metadata": {
        "id": "cvb5nHGeAdpp"
      }
    },
    {
      "cell_type": "code",
      "metadata": {
        "id": "4nsLOYvHs1l8"
      },
      "source": [
        "# load data and split data to train, evaluation and test\n",
        "cur_path = \"/content/drive/MyDrive/COVID\"\n",
        "pos_files = [f for f in glob.glob(os.path.join(cur_path, 'CT_COVID','*.*'))]\n",
        "neg_files = [f for f in  glob.glob(os.path.join(cur_path, 'CT_NonCOVID','*.*'))]\n",
        "\n",
        "images = pos_files + neg_files\n",
        "labels = np.array([1]*len(pos_files)+[0]*len(neg_files))\n",
        "\n",
        "images_tv, images_test, y_tv, y_test  = train_test_split(images, labels, shuffle=True, test_size=0.2, random_state=123)\n",
        "images_train, images_val, y_train, y_val  = train_test_split(images_tv, y_tv, shuffle=True, test_size=0.25, random_state=123)"
      ],
      "execution_count": null,
      "outputs": []
    },
    {
      "cell_type": "code",
      "metadata": {
        "colab": {
          "base_uri": "https://localhost:8080/"
        },
        "id": "DeV04OaDs1l9",
        "outputId": "96f4c87b-f8b7-4790-baec-897b01470685"
      },
      "source": [
        "print(len(y_train), len(y_val), len(y_test))\n",
        "\n",
        "print(y_train.sum(), y_val.sum(), y_test.sum())"
      ],
      "execution_count": null,
      "outputs": [
        {
          "output_type": "stream",
          "name": "stdout",
          "text": [
            "447 149 150\n",
            "207 71 71\n"
          ]
        }
      ]
    },
    {
      "cell_type": "markdown",
      "source": [
        "**Creating Dataset Class**"
      ],
      "metadata": {
        "id": "r7XJ128kAlZO"
      }
    },
    {
      "cell_type": "code",
      "metadata": {
        "id": "gySW74Kys1l9"
      },
      "source": [
        "class CT_Dataset(Dataset):\n",
        "    def __init__(self, img_path, img_labels, img_transforms=None):\n",
        "        self.img_path = img_path\n",
        "        self.img_labels = torch.Tensor(img_labels)\n",
        "        # if img_transforms is None:\n",
        "        #     self.transforms = transforms.ToTensor()\n",
        "        # else:\n",
        "        self.transforms = img_transforms\n",
        "    \n",
        "    def __getitem__(self, index):\n",
        "        cur_path = self.img_path[index] \n",
        "        cur_img = Image.open(cur_path).convert('RGB')\n",
        "        cur_img = self.transforms(cur_img)\n",
        "        return cur_img, self.img_labels[index]\n",
        "    \n",
        "    def __len__(self):\n",
        "        return len(self.img_path)\n",
        "    "
      ],
      "execution_count": null,
      "outputs": []
    },
    {
      "cell_type": "markdown",
      "source": [
        "**Apply Transformers**"
      ],
      "metadata": {
        "id": "Nu64qTdxAsEh"
      }
    },
    {
      "cell_type": "code",
      "metadata": {
        "id": "RaGtf1NVi5GG"
      },
      "source": [
        "data_augmentation = transforms.Compose([transforms.Grayscale(num_output_channels=1), \n",
        "                                        transforms.RandomRotation(5),\n",
        "                                        #transforms.RandomHorizontalFlip(p=0.5),\n",
        "                                         transforms.RandomVerticalFlip(p=0.5),\n",
        "                                        transforms.Resize((250, 250)),  \n",
        "                                        transforms.ToTensor(),\n",
        "                                        ])"
      ],
      "execution_count": null,
      "outputs": []
    },
    {
      "cell_type": "markdown",
      "source": [
        "**Train-Val-Test Split**"
      ],
      "metadata": {
        "id": "iJ16Y_pmAyEl"
      }
    },
    {
      "cell_type": "code",
      "metadata": {
        "id": "KfZZ7Q7MaQpD"
      },
      "source": [
        "# images_train, images_val, y_train, y_val\n",
        "train_data = CT_Dataset(images_train, y_train, img_transforms=data_augmentation)\n",
        "val_data = CT_Dataset(images_val, y_val, img_transforms=data_augmentation)\n",
        "test_data = CT_Dataset(images_test, y_test, img_transforms=data_augmentation)"
      ],
      "execution_count": null,
      "outputs": []
    },
    {
      "cell_type": "markdown",
      "metadata": {
        "id": "8-9dcNC0s1l9"
      },
      "source": [
        "###  Build & Execute Model"
      ]
    },
    {
      "cell_type": "markdown",
      "source": [
        "**Define Model**"
      ],
      "metadata": {
        "id": "WFzEzs8wBbYU"
      }
    },
    {
      "cell_type": "code",
      "metadata": {
        "id": "EuKB1BUqs1l-"
      },
      "source": [
        "# define CNN mode\n",
        "\n",
        "class Convnet(nn.Module):\n",
        "    def __init__(self, dropout_ratio=0.3):\n",
        "        super(Convnet, self).__init__()\n",
        "        # conv net 1, 250, 250 \n",
        "        self.convnet = nn.Sequential(\n",
        "            nn.Conv2d(in_channels=1, out_channels=18, kernel_size=3),  \n",
        "            nn.ReLU(),\n",
        "            nn.MaxPool2d(kernel_size=2),\n",
        "            \n",
        "            nn.Conv2d(in_channels=18, out_channels=32, kernel_size=5),  \n",
        "            nn.Flatten() \n",
        "        )\n",
        "        # classifier\n",
        "        self.classifier = nn.Sequential(\n",
        "            nn.Dropout(dropout_ratio),\n",
        "            nn.Linear(in_features=460800, out_features=32), \n",
        "            nn.ReLU(),\n",
        "            nn.Linear(in_features=32, out_features=1)\n",
        "        )\n",
        "    def forward(self, x):\n",
        "        x = self.convnet(x)\n",
        "        x = self.classifier(x)\n",
        "\n",
        "        return x"
      ],
      "execution_count": null,
      "outputs": []
    },
    {
      "cell_type": "markdown",
      "metadata": {
        "id": "LKCZfOPPs1l-"
      },
      "source": [
        "**Create a Class for Early Stopping**"
      ]
    },
    {
      "cell_type": "code",
      "metadata": {
        "id": "X45Q2k03cHE-"
      },
      "source": [
        "class EarlyStopping:\n",
        "\n",
        "    def __init__(self, patience=7, verbose=False, delta=0, path='checkpoint.pt', trace_func=print):\n",
        "       \n",
        "        self.patience = patience\n",
        "        self.verbose = verbose\n",
        "        self.counter = 0\n",
        "        self.best_score = None\n",
        "        self.early_stop = False\n",
        "        self.val_loss_min = np.Inf\n",
        "        self.delta = delta\n",
        "        self.path = path\n",
        "        self.trace_func = trace_func\n",
        "    def __call__(self, val_loss, model):\n",
        "\n",
        "        score = -val_loss\n",
        "\n",
        "        if self.best_score is None:\n",
        "            self.best_score = score\n",
        "            # self.save_checkpoint(val_loss, model)\n",
        "        elif score < self.best_score + self.delta:\n",
        "            self.counter += 1\n",
        "            self.trace_func(f'EarlyStopping counter: {self.counter} out of {self.patience}')\n",
        "            if self.counter >= self.patience:\n",
        "                self.early_stop = True\n",
        "        else:\n",
        "            self.best_score = score\n",
        "            self.save_checkpoint(val_loss, model)\n",
        "            self.counter = 0\n",
        "\n",
        "    def save_checkpoint(self, val_loss, model):\n",
        "      \n",
        "        if self.verbose:\n",
        "            self.trace_func(f'Validation loss decreased ({self.val_loss_min:.6f} --> {val_loss:.6f}).  Saving model ...')\n",
        "        torch.save(model.state_dict(), self.path)\n",
        "        self.val_loss_min = val_loss\n"
      ],
      "execution_count": null,
      "outputs": []
    },
    {
      "cell_type": "markdown",
      "source": [
        "**Define Train Function**"
      ],
      "metadata": {
        "id": "CKCXukk3BT05"
      }
    },
    {
      "cell_type": "code",
      "metadata": {
        "id": "2pLvlcL3s1l-"
      },
      "source": [
        "def train_model(model, train_dataset, test_dataset, device, \n",
        "                lr=0.0001, epochs=30, batch_size=64):\n",
        "    # construct dataloader\n",
        "    train_loader = DataLoader(train_dataset, batch_size=batch_size, shuffle=True)\n",
        "    test_loader = DataLoader(test_dataset, batch_size=batch_size, shuffle=False)\n",
        "\n",
        "    # move model to device\n",
        "    model = model.to(device)\n",
        "    early_stopping = EarlyStopping(patience=5, verbose=True)\n",
        "\n",
        "    # history\n",
        "    history = {'train_loss': [],\n",
        "               'train_acc': [],\n",
        "               'test_loss': [],\n",
        "               'test_acc': []}\n",
        "    # setup loss function and optimizer\n",
        "    criterion = nn.BCEWithLogitsLoss()\n",
        "    optimizer = torch.optim.Adam(model.parameters(), lr=lr)\n",
        "    # training loop\n",
        "    print('Training Starts ')\n",
        "    for epoch in range(epochs):\n",
        "        model.train()\n",
        "        train_loss = 0\n",
        "        train_acc = 0\n",
        "        test_loss = 0\n",
        "        test_acc = 0\n",
        "        \n",
        "        for x, y in train_loader:\n",
        "            # move data to device\n",
        "            # print(\"what the\")\n",
        "            x = x.to(device)\n",
        "            y = y.to(device)\n",
        "            # forward\n",
        "            outputs = model(x).view(-1)  # (num_batch)\n",
        "            # print(outputs.shape)\n",
        "            # print(y.shape)\n",
        "            cur_train_loss = criterion(outputs, y)\n",
        "            pred = torch.sigmoid(outputs)\n",
        "            pred = torch.round(pred)\n",
        "            cur_train_acc = (pred == y).sum().item() / batch_size\n",
        "            # backward\n",
        "            cur_train_loss.backward()\n",
        "            optimizer.step()\n",
        "            optimizer.zero_grad()\n",
        "            # loss and acc\n",
        "            train_loss += cur_train_loss\n",
        "            train_acc += cur_train_acc\n",
        "\n",
        "        # test start\n",
        "        model.eval()\n",
        "        with torch.no_grad():\n",
        "            for x, y in test_loader:\n",
        "                # move\n",
        "                x = x.to(device)\n",
        "                y = y.to(device)\n",
        "                # predict\n",
        "                outputs = model(x).view(-1)\n",
        "                pred = torch.round(torch.sigmoid(outputs))\n",
        "                cur_test_loss = criterion(outputs, y)\n",
        "                cur_test_acc = (pred == y).sum().item() / batch_size \n",
        "                # loss and acc\n",
        "                test_loss += cur_test_loss\n",
        "                test_acc += cur_test_acc\n",
        "\n",
        "        # epoch output\n",
        "        train_loss = (train_loss/len(train_loader)).item()\n",
        "        train_acc = train_acc/len(train_loader)\n",
        "        val_loss = (test_loss/len(test_loader)).item()\n",
        "        val_acc = test_acc/len(test_loader)\n",
        "        history['train_loss'].append(train_loss)\n",
        "        history['train_acc'].append(train_acc)\n",
        "        history['test_loss'].append(val_loss)\n",
        "        history['test_acc'].append(val_acc)\n",
        "        print(f\"Epoch:{epoch + 1} / {epochs}, train loss:{train_loss:.4f} train_acc:{train_acc:.4f}           valid loss:{val_loss:.4f} valid acc:{val_acc:.4f}\")\n",
        "\n",
        "        early_stopping(val_loss, model)\n",
        "        if early_stopping.early_stop:\n",
        "            print(\"Early stopping\")\n",
        "            break\n",
        "    \n",
        "    return history\n",
        "    "
      ],
      "execution_count": null,
      "outputs": []
    },
    {
      "cell_type": "markdown",
      "source": [
        "**Train the Model**"
      ],
      "metadata": {
        "id": "yPU_c9AIBggM"
      }
    },
    {
      "cell_type": "code",
      "metadata": {
        "id": "uocOYoXBxzpL",
        "colab": {
          "base_uri": "https://localhost:8080/"
        },
        "outputId": "5ae673d5-bede-4d2d-87bc-821604dc5906"
      },
      "source": [
        "cnn_model = Convnet()\n",
        "history = train_model(cnn_model, train_data, val_data, device, batch_size=32, epochs=100, lr=0.00001)"
      ],
      "execution_count": null,
      "outputs": [
        {
          "output_type": "stream",
          "name": "stdout",
          "text": [
            "Training Starts \n",
            "Epoch:1 / 100, train loss:0.6915 train_acc:0.5379           valid loss:0.6811 valid acc:0.4875\n",
            "Epoch:2 / 100, train loss:0.6671 train_acc:0.5915           valid loss:0.6586 valid acc:0.6312\n",
            "Validation loss decreased (inf --> 0.658560).  Saving model ...\n",
            "Epoch:3 / 100, train loss:0.6514 train_acc:0.6094           valid loss:0.6489 valid acc:0.5938\n",
            "Validation loss decreased (0.658560 --> 0.648879).  Saving model ...\n",
            "Epoch:4 / 100, train loss:0.6449 train_acc:0.6272           valid loss:0.6434 valid acc:0.6250\n",
            "Validation loss decreased (0.648879 --> 0.643434).  Saving model ...\n",
            "Epoch:5 / 100, train loss:0.6268 train_acc:0.6585           valid loss:0.6340 valid acc:0.5938\n",
            "Validation loss decreased (0.643434 --> 0.634027).  Saving model ...\n",
            "Epoch:6 / 100, train loss:0.6214 train_acc:0.6585           valid loss:0.6326 valid acc:0.6312\n",
            "Validation loss decreased (0.634027 --> 0.632647).  Saving model ...\n",
            "Epoch:7 / 100, train loss:0.6128 train_acc:0.6920           valid loss:0.6230 valid acc:0.6438\n",
            "Validation loss decreased (0.632647 --> 0.622988).  Saving model ...\n",
            "Epoch:8 / 100, train loss:0.6039 train_acc:0.7076           valid loss:0.6170 valid acc:0.6500\n",
            "Validation loss decreased (0.622988 --> 0.616953).  Saving model ...\n",
            "Epoch:9 / 100, train loss:0.6065 train_acc:0.6920           valid loss:0.6174 valid acc:0.6125\n",
            "EarlyStopping counter: 1 out of 5\n",
            "Epoch:10 / 100, train loss:0.5981 train_acc:0.6853           valid loss:0.6090 valid acc:0.6500\n",
            "Validation loss decreased (0.616953 --> 0.608975).  Saving model ...\n",
            "Epoch:11 / 100, train loss:0.5944 train_acc:0.7009           valid loss:0.6049 valid acc:0.6562\n",
            "Validation loss decreased (0.608975 --> 0.604896).  Saving model ...\n",
            "Epoch:12 / 100, train loss:0.5859 train_acc:0.7121           valid loss:0.5966 valid acc:0.6562\n",
            "Validation loss decreased (0.604896 --> 0.596602).  Saving model ...\n",
            "Epoch:13 / 100, train loss:0.5809 train_acc:0.6830           valid loss:0.5977 valid acc:0.6750\n",
            "EarlyStopping counter: 1 out of 5\n",
            "Epoch:14 / 100, train loss:0.5743 train_acc:0.7344           valid loss:0.6061 valid acc:0.6312\n",
            "EarlyStopping counter: 2 out of 5\n",
            "Epoch:15 / 100, train loss:0.5659 train_acc:0.7188           valid loss:0.5880 valid acc:0.6562\n",
            "Validation loss decreased (0.596602 --> 0.588031).  Saving model ...\n",
            "Epoch:16 / 100, train loss:0.5626 train_acc:0.7165           valid loss:0.5868 valid acc:0.6750\n",
            "Validation loss decreased (0.588031 --> 0.586767).  Saving model ...\n",
            "Epoch:17 / 100, train loss:0.5615 train_acc:0.7277           valid loss:0.5982 valid acc:0.6375\n",
            "EarlyStopping counter: 1 out of 5\n",
            "Epoch:18 / 100, train loss:0.5601 train_acc:0.7098           valid loss:0.5791 valid acc:0.6500\n",
            "Validation loss decreased (0.586767 --> 0.579133).  Saving model ...\n",
            "Epoch:19 / 100, train loss:0.5505 train_acc:0.7210           valid loss:0.5861 valid acc:0.6562\n",
            "EarlyStopping counter: 1 out of 5\n",
            "Epoch:20 / 100, train loss:0.5582 train_acc:0.7321           valid loss:0.5883 valid acc:0.6687\n",
            "EarlyStopping counter: 2 out of 5\n",
            "Epoch:21 / 100, train loss:0.5401 train_acc:0.7433           valid loss:0.5776 valid acc:0.6375\n",
            "Validation loss decreased (0.579133 --> 0.577630).  Saving model ...\n",
            "Epoch:22 / 100, train loss:0.5437 train_acc:0.7366           valid loss:0.5720 valid acc:0.7000\n",
            "Validation loss decreased (0.577630 --> 0.572020).  Saving model ...\n",
            "Epoch:23 / 100, train loss:0.5346 train_acc:0.7433           valid loss:0.5670 valid acc:0.6875\n",
            "Validation loss decreased (0.572020 --> 0.566953).  Saving model ...\n",
            "Epoch:24 / 100, train loss:0.5377 train_acc:0.7478           valid loss:0.5644 valid acc:0.6875\n",
            "Validation loss decreased (0.566953 --> 0.564432).  Saving model ...\n",
            "Epoch:25 / 100, train loss:0.5336 train_acc:0.7299           valid loss:0.5657 valid acc:0.6813\n",
            "EarlyStopping counter: 1 out of 5\n",
            "Epoch:26 / 100, train loss:0.5355 train_acc:0.7433           valid loss:0.5855 valid acc:0.6750\n",
            "EarlyStopping counter: 2 out of 5\n",
            "Epoch:27 / 100, train loss:0.5241 train_acc:0.7455           valid loss:0.5762 valid acc:0.6750\n",
            "EarlyStopping counter: 3 out of 5\n",
            "Epoch:28 / 100, train loss:0.5228 train_acc:0.7612           valid loss:0.5631 valid acc:0.6687\n",
            "Validation loss decreased (0.564432 --> 0.563102).  Saving model ...\n",
            "Epoch:29 / 100, train loss:0.5106 train_acc:0.7455           valid loss:0.5693 valid acc:0.6750\n",
            "EarlyStopping counter: 1 out of 5\n",
            "Epoch:30 / 100, train loss:0.5062 train_acc:0.7589           valid loss:0.5580 valid acc:0.7000\n",
            "Validation loss decreased (0.563102 --> 0.557997).  Saving model ...\n",
            "Epoch:31 / 100, train loss:0.5061 train_acc:0.7455           valid loss:0.5498 valid acc:0.6875\n",
            "Validation loss decreased (0.557997 --> 0.549765).  Saving model ...\n",
            "Epoch:32 / 100, train loss:0.5131 train_acc:0.7500           valid loss:0.5534 valid acc:0.6875\n",
            "EarlyStopping counter: 1 out of 5\n",
            "Epoch:33 / 100, train loss:0.4981 train_acc:0.7812           valid loss:0.5644 valid acc:0.6813\n",
            "EarlyStopping counter: 2 out of 5\n",
            "Epoch:34 / 100, train loss:0.4952 train_acc:0.7567           valid loss:0.5516 valid acc:0.6937\n",
            "EarlyStopping counter: 3 out of 5\n",
            "Epoch:35 / 100, train loss:0.4867 train_acc:0.7634           valid loss:0.5504 valid acc:0.6687\n",
            "EarlyStopping counter: 4 out of 5\n",
            "Epoch:36 / 100, train loss:0.4907 train_acc:0.7679           valid loss:0.5480 valid acc:0.6937\n",
            "Validation loss decreased (0.549765 --> 0.548029).  Saving model ...\n",
            "Epoch:37 / 100, train loss:0.4846 train_acc:0.7723           valid loss:0.5445 valid acc:0.6875\n",
            "Validation loss decreased (0.548029 --> 0.544469).  Saving model ...\n",
            "Epoch:38 / 100, train loss:0.5026 train_acc:0.7388           valid loss:0.5647 valid acc:0.6687\n",
            "EarlyStopping counter: 1 out of 5\n",
            "Epoch:39 / 100, train loss:0.4926 train_acc:0.7679           valid loss:0.5712 valid acc:0.6875\n",
            "EarlyStopping counter: 2 out of 5\n",
            "Epoch:40 / 100, train loss:0.4794 train_acc:0.7723           valid loss:0.5243 valid acc:0.6875\n",
            "Validation loss decreased (0.544469 --> 0.524347).  Saving model ...\n",
            "Epoch:41 / 100, train loss:0.4739 train_acc:0.7790           valid loss:0.5361 valid acc:0.7063\n",
            "EarlyStopping counter: 1 out of 5\n",
            "Epoch:42 / 100, train loss:0.4690 train_acc:0.7768           valid loss:0.5395 valid acc:0.7063\n",
            "EarlyStopping counter: 2 out of 5\n",
            "Epoch:43 / 100, train loss:0.4773 train_acc:0.7589           valid loss:0.5390 valid acc:0.7000\n",
            "EarlyStopping counter: 3 out of 5\n",
            "Epoch:44 / 100, train loss:0.4675 train_acc:0.7790           valid loss:0.5265 valid acc:0.7063\n",
            "EarlyStopping counter: 4 out of 5\n",
            "Epoch:45 / 100, train loss:0.4722 train_acc:0.7768           valid loss:0.5181 valid acc:0.7188\n",
            "Validation loss decreased (0.524347 --> 0.518052).  Saving model ...\n",
            "Epoch:46 / 100, train loss:0.4638 train_acc:0.7612           valid loss:0.5313 valid acc:0.7250\n",
            "EarlyStopping counter: 1 out of 5\n",
            "Epoch:47 / 100, train loss:0.4589 train_acc:0.7812           valid loss:0.5384 valid acc:0.6625\n",
            "EarlyStopping counter: 2 out of 5\n",
            "Epoch:48 / 100, train loss:0.4805 train_acc:0.7656           valid loss:0.5478 valid acc:0.7125\n",
            "EarlyStopping counter: 3 out of 5\n",
            "Epoch:49 / 100, train loss:0.4567 train_acc:0.8058           valid loss:0.5524 valid acc:0.6750\n",
            "EarlyStopping counter: 4 out of 5\n",
            "Epoch:50 / 100, train loss:0.4628 train_acc:0.7746           valid loss:0.5222 valid acc:0.6813\n",
            "EarlyStopping counter: 5 out of 5\n",
            "Early stopping\n"
          ]
        }
      ]
    },
    {
      "cell_type": "markdown",
      "source": [
        "**Model Performance**"
      ],
      "metadata": {
        "id": "d7lQC9mrCE1V"
      }
    },
    {
      "cell_type": "code",
      "metadata": {
        "id": "IZD3VIURyR7N",
        "colab": {
          "base_uri": "https://localhost:8080/",
          "height": 627
        },
        "outputId": "6049086f-e4a9-4c9a-fc24-4d2110c4d814"
      },
      "source": [
        "epochs = range(1, len(history['train_loss']) + 1)\n",
        "\n",
        "plt.plot(epochs, history['train_loss'], 'r-', label='Train')\n",
        "plt.plot(epochs, history['test_loss'], 'b-', label='Evaluation')\n",
        "\n",
        "plt.title('Loss')\n",
        "plt.xlabel('Epochs')\n",
        "plt.ylabel('Loss')\n",
        "plt.legend()\n",
        "\n",
        "plt.show()\n",
        "\n",
        "plt.plot(epochs, history['train_acc'], 'r-', label='Train')\n",
        "plt.plot(epochs, history['test_acc'], 'b-', label='Evaluation')\n",
        "\n",
        "plt.title('Accuracy')\n",
        "plt.xlabel('Epochs')\n",
        "plt.ylabel('Acc')\n",
        "plt.legend()\n",
        "\n",
        "plt.show()"
      ],
      "execution_count": null,
      "outputs": [
        {
          "output_type": "execute_result",
          "data": {
            "text/plain": [
              "[<matplotlib.lines.Line2D at 0x7ff203c05c50>]"
            ]
          },
          "metadata": {},
          "execution_count": 22
        },
        {
          "output_type": "execute_result",
          "data": {
            "text/plain": [
              "[<matplotlib.lines.Line2D at 0x7ff20334e310>]"
            ]
          },
          "metadata": {},
          "execution_count": 22
        },
        {
          "output_type": "execute_result",
          "data": {
            "text/plain": [
              "Text(0.5, 1.0, 'Loss')"
            ]
          },
          "metadata": {},
          "execution_count": 22
        },
        {
          "output_type": "execute_result",
          "data": {
            "text/plain": [
              "Text(0.5, 0, 'Epochs')"
            ]
          },
          "metadata": {},
          "execution_count": 22
        },
        {
          "output_type": "execute_result",
          "data": {
            "text/plain": [
              "Text(0, 0.5, 'Loss')"
            ]
          },
          "metadata": {},
          "execution_count": 22
        },
        {
          "output_type": "execute_result",
          "data": {
            "text/plain": [
              "<matplotlib.legend.Legend at 0x7ff20334e750>"
            ]
          },
          "metadata": {},
          "execution_count": 22
        },
        {
          "output_type": "display_data",
          "data": {
            "text/plain": [
              "<Figure size 432x288 with 1 Axes>"
            ],
            "image/png": "[encoded data removed]"
          },
          "metadata": {
            "needs_background": "light"
          }
        },
        {
          "output_type": "execute_result",
          "data": {
            "text/plain": [
              "[<matplotlib.lines.Line2D at 0x7ff202e403d0>]"
            ]
          },
          "metadata": {},
          "execution_count": 22
        },
        {
          "output_type": "execute_result",
          "data": {
            "text/plain": [
              "[<matplotlib.lines.Line2D at 0x7ff202e40910>]"
            ]
          },
          "metadata": {},
          "execution_count": 22
        },
        {
          "output_type": "execute_result",
          "data": {
            "text/plain": [
              "Text(0.5, 1.0, 'Accuracy')"
            ]
          },
          "metadata": {},
          "execution_count": 22
        },
        {
          "output_type": "execute_result",
          "data": {
            "text/plain": [
              "Text(0.5, 0, 'Epochs')"
            ]
          },
          "metadata": {},
          "execution_count": 22
        },
        {
          "output_type": "execute_result",
          "data": {
            "text/plain": [
              "Text(0, 0.5, 'Acc')"
            ]
          },
          "metadata": {},
          "execution_count": 22
        },
        {
          "output_type": "execute_result",
          "data": {
            "text/plain": [
              "<matplotlib.legend.Legend at 0x7ff202e5a0d0>"
            ]
          },
          "metadata": {},
          "execution_count": 22
        },
        {
          "output_type": "display_data",
          "data": {
            "text/plain": [
              "<Figure size 432x288 with 1 Axes>"
            ],
            "image/png": "[encoded data removed]"
          },
          "metadata": {
            "needs_background": "light"
          }
        }
      ]
    },
    {
      "cell_type": "code",
      "source": [
        "'''\n",
        "test_loader = DataLoader(test_data)\n",
        "cnn_model = Convnet().to(device)\n",
        "cnn_model.eval()\n",
        "y_pred_list = []\n",
        "with torch.no_grad():\n",
        "    for x,y in test_loader:\n",
        "        x = x.to(device)\n",
        "        outputs = cnn_model(x)\n",
        "        score,pred = torch.max(outputs, 1)\n",
        "        y_pred_list.append(pred.cpu().detach().numpy()[0])\n",
        "\n",
        "y_true = y_test\n",
        "y_pred = np.array(y_pred_list)\n",
        "'''"
      ],
      "metadata": {
        "colab": {
          "base_uri": "https://localhost:8080/"
        },
        "id": "sPCuLVGtrijD",
        "outputId": "0d3f87d3-b46e-4918-9f2e-8297251148fe"
      },
      "execution_count": null,
      "outputs": [
        {
          "output_type": "execute_result",
          "data": {
            "text/plain": [
              "Convnet(\n",
              "  (convnet): Sequential(\n",
              "    (0): Conv2d(1, 18, kernel_size=(3, 3), stride=(1, 1))\n",
              "    (1): ReLU()\n",
              "    (2): MaxPool2d(kernel_size=2, stride=2, padding=0, dilation=1, ceil_mode=False)\n",
              "    (3): Conv2d(18, 32, kernel_size=(5, 5), stride=(1, 1))\n",
              "    (4): Flatten(start_dim=1, end_dim=-1)\n",
              "  )\n",
              "  (classifier): Sequential(\n",
              "    (0): Dropout(p=0.3, inplace=False)\n",
              "    (1): Linear(in_features=460800, out_features=32, bias=True)\n",
              "    (2): ReLU()\n",
              "    (3): Linear(in_features=32, out_features=1, bias=True)\n",
              "  )\n",
              ")"
            ]
          },
          "metadata": {},
          "execution_count": 66
        }
      ]
    },
    {
      "cell_type": "markdown",
      "source": [
        "# Pre-Trained Model"
      ],
      "metadata": {
        "id": "aX-53bhR_Ef3"
      }
    },
    {
      "cell_type": "markdown",
      "source": [
        "**Import the Pretrained Model**"
      ],
      "metadata": {
        "id": "1SYNo_EqCoKF"
      }
    },
    {
      "cell_type": "code",
      "source": [
        "from torchvision.models import vgg19_bn\n",
        "\n",
        "random.seed(0)\n",
        "\n",
        "log_dir = \"~/logs\"\n",
        "writer = SummaryWriter(log_dir)\n",
        "device = \"cuda:0\" if torch.cuda.is_available() else \"cpu\""
      ],
      "metadata": {
        "id": "jtdNFQGtrk_E"
      },
      "execution_count": null,
      "outputs": []
    },
    {
      "cell_type": "code",
      "source": [
        "data_augmentation = transforms.Compose([#transforms.Grayscale(num_output_channels=1), \n",
        "                                        transforms.RandomRotation(5),\n",
        "                                        #transforms.RandomHorizontalFlip(p=0.5),\n",
        "                                         transforms.RandomVerticalFlip(p=0.5),\n",
        "                                        transforms.Resize((250, 250)),  \n",
        "                                        transforms.ToTensor(),\n",
        "                                        ])"
      ],
      "metadata": {
        "id": "Snsbq7E4rk7U"
      },
      "execution_count": null,
      "outputs": []
    },
    {
      "cell_type": "code",
      "source": [
        "train_data = CT_Dataset(images_train, y_train, img_transforms=data_augmentation)\n",
        "val_data = CT_Dataset(images_val, y_val, img_transforms=data_augmentation)\n",
        "test_data = CT_Dataset(images_test, y_test, img_transforms=data_augmentation)"
      ],
      "metadata": {
        "id": "IHWLVTs-7Q6p"
      },
      "execution_count": null,
      "outputs": []
    },
    {
      "cell_type": "markdown",
      "source": [
        "**Define you Pretrained Model**"
      ],
      "metadata": {
        "id": "9tNdiKQ4CwtX"
      }
    },
    {
      "cell_type": "code",
      "source": [
        "model = vgg19_bn(pretrained=True)\n",
        "model.classifier[6] = nn.Linear(4096, 1)\n",
        "model.to(device)"
      ],
      "metadata": {
        "colab": {
          "base_uri": "https://localhost:8080/"
        },
        "id": "FEXeLS90sFUA",
        "outputId": "8741dfda-d651-4ab0-d15c-6beaca84b9c5"
      },
      "execution_count": null,
      "outputs": [
        {
          "output_type": "execute_result",
          "data": {
            "text/plain": [
              "VGG(\n",
              "  (features): Sequential(\n",
              "    (0): Conv2d(3, 64, kernel_size=(3, 3), stride=(1, 1), padding=(1, 1))\n",
              "    (1): BatchNorm2d(64, eps=1e-05, momentum=0.1, affine=True, track_running_stats=True)\n",
              "    (2): ReLU(inplace=True)\n",
              "    (3): Conv2d(64, 64, kernel_size=(3, 3), stride=(1, 1), padding=(1, 1))\n",
              "    (4): BatchNorm2d(64, eps=1e-05, momentum=0.1, affine=True, track_running_stats=True)\n",
              "    (5): ReLU(inplace=True)\n",
              "    (6): MaxPool2d(kernel_size=2, stride=2, padding=0, dilation=1, ceil_mode=False)\n",
              "    (7): Conv2d(64, 128, kernel_size=(3, 3), stride=(1, 1), padding=(1, 1))\n",
              "    (8): BatchNorm2d(128, eps=1e-05, momentum=0.1, affine=True, track_running_stats=True)\n",
              "    (9): ReLU(inplace=True)\n",
              "    (10): Conv2d(128, 128, kernel_size=(3, 3), stride=(1, 1), padding=(1, 1))\n",
              "    (11): BatchNorm2d(128, eps=1e-05, momentum=0.1, affine=True, track_running_stats=True)\n",
              "    (12): ReLU(inplace=True)\n",
              "    (13): MaxPool2d(kernel_size=2, stride=2, padding=0, dilation=1, ceil_mode=False)\n",
              "    (14): Conv2d(128, 256, kernel_size=(3, 3), stride=(1, 1), padding=(1, 1))\n",
              "    (15): BatchNorm2d(256, eps=1e-05, momentum=0.1, affine=True, track_running_stats=True)\n",
              "    (16): ReLU(inplace=True)\n",
              "    (17): Conv2d(256, 256, kernel_size=(3, 3), stride=(1, 1), padding=(1, 1))\n",
              "    (18): BatchNorm2d(256, eps=1e-05, momentum=0.1, affine=True, track_running_stats=True)\n",
              "    (19): ReLU(inplace=True)\n",
              "    (20): Conv2d(256, 256, kernel_size=(3, 3), stride=(1, 1), padding=(1, 1))\n",
              "    (21): BatchNorm2d(256, eps=1e-05, momentum=0.1, affine=True, track_running_stats=True)\n",
              "    (22): ReLU(inplace=True)\n",
              "    (23): Conv2d(256, 256, kernel_size=(3, 3), stride=(1, 1), padding=(1, 1))\n",
              "    (24): BatchNorm2d(256, eps=1e-05, momentum=0.1, affine=True, track_running_stats=True)\n",
              "    (25): ReLU(inplace=True)\n",
              "    (26): MaxPool2d(kernel_size=2, stride=2, padding=0, dilation=1, ceil_mode=False)\n",
              "    (27): Conv2d(256, 512, kernel_size=(3, 3), stride=(1, 1), padding=(1, 1))\n",
              "    (28): BatchNorm2d(512, eps=1e-05, momentum=0.1, affine=True, track_running_stats=True)\n",
              "    (29): ReLU(inplace=True)\n",
              "    (30): Conv2d(512, 512, kernel_size=(3, 3), stride=(1, 1), padding=(1, 1))\n",
              "    (31): BatchNorm2d(512, eps=1e-05, momentum=0.1, affine=True, track_running_stats=True)\n",
              "    (32): ReLU(inplace=True)\n",
              "    (33): Conv2d(512, 512, kernel_size=(3, 3), stride=(1, 1), padding=(1, 1))\n",
              "    (34): BatchNorm2d(512, eps=1e-05, momentum=0.1, affine=True, track_running_stats=True)\n",
              "    (35): ReLU(inplace=True)\n",
              "    (36): Conv2d(512, 512, kernel_size=(3, 3), stride=(1, 1), padding=(1, 1))\n",
              "    (37): BatchNorm2d(512, eps=1e-05, momentum=0.1, affine=True, track_running_stats=True)\n",
              "    (38): ReLU(inplace=True)\n",
              "    (39): MaxPool2d(kernel_size=2, stride=2, padding=0, dilation=1, ceil_mode=False)\n",
              "    (40): Conv2d(512, 512, kernel_size=(3, 3), stride=(1, 1), padding=(1, 1))\n",
              "    (41): BatchNorm2d(512, eps=1e-05, momentum=0.1, affine=True, track_running_stats=True)\n",
              "    (42): ReLU(inplace=True)\n",
              "    (43): Conv2d(512, 512, kernel_size=(3, 3), stride=(1, 1), padding=(1, 1))\n",
              "    (44): BatchNorm2d(512, eps=1e-05, momentum=0.1, affine=True, track_running_stats=True)\n",
              "    (45): ReLU(inplace=True)\n",
              "    (46): Conv2d(512, 512, kernel_size=(3, 3), stride=(1, 1), padding=(1, 1))\n",
              "    (47): BatchNorm2d(512, eps=1e-05, momentum=0.1, affine=True, track_running_stats=True)\n",
              "    (48): ReLU(inplace=True)\n",
              "    (49): Conv2d(512, 512, kernel_size=(3, 3), stride=(1, 1), padding=(1, 1))\n",
              "    (50): BatchNorm2d(512, eps=1e-05, momentum=0.1, affine=True, track_running_stats=True)\n",
              "    (51): ReLU(inplace=True)\n",
              "    (52): MaxPool2d(kernel_size=2, stride=2, padding=0, dilation=1, ceil_mode=False)\n",
              "  )\n",
              "  (avgpool): AdaptiveAvgPool2d(output_size=(7, 7))\n",
              "  (classifier): Sequential(\n",
              "    (0): Linear(in_features=25088, out_features=4096, bias=True)\n",
              "    (1): ReLU(inplace=True)\n",
              "    (2): Dropout(p=0.5, inplace=False)\n",
              "    (3): Linear(in_features=4096, out_features=4096, bias=True)\n",
              "    (4): ReLU(inplace=True)\n",
              "    (5): Dropout(p=0.5, inplace=False)\n",
              "    (6): Linear(in_features=4096, out_features=1, bias=True)\n",
              "  )\n",
              ")"
            ]
          },
          "metadata": {},
          "execution_count": 26
        }
      ]
    },
    {
      "cell_type": "code",
      "source": [
        "cnn_model = model\n",
        "history_pre = train_model(cnn_model, train_data, val_data, device, batch_size=32, epochs=100, lr=0.00001)"
      ],
      "metadata": {
        "colab": {
          "base_uri": "https://localhost:8080/"
        },
        "id": "Y8S0SQEssWlK",
        "outputId": "186914aa-372e-419d-f047-45944abfdd3f"
      },
      "execution_count": null,
      "outputs": [
        {
          "output_type": "stream",
          "name": "stdout",
          "text": [
            "Training Starts \n",
            "Epoch:1 / 100, train loss:0.6848 train_acc:0.5781           valid loss:0.6596 valid acc:0.5188\n",
            "Epoch:2 / 100, train loss:0.6174 train_acc:0.6897           valid loss:0.6478 valid acc:0.5312\n",
            "Validation loss decreased (inf --> 0.647842).  Saving model ...\n",
            "Epoch:3 / 100, train loss:0.5537 train_acc:0.7790           valid loss:0.5934 valid acc:0.6312\n",
            "Validation loss decreased (0.647842 --> 0.593436).  Saving model ...\n",
            "Epoch:4 / 100, train loss:0.4740 train_acc:0.8170           valid loss:0.5251 valid acc:0.7188\n",
            "Validation loss decreased (0.593436 --> 0.525051).  Saving model ...\n",
            "Epoch:5 / 100, train loss:0.3765 train_acc:0.8571           valid loss:0.4397 valid acc:0.7750\n",
            "Validation loss decreased (0.525051 --> 0.439691).  Saving model ...\n",
            "Epoch:6 / 100, train loss:0.2914 train_acc:0.9018           valid loss:0.3953 valid acc:0.7750\n",
            "Validation loss decreased (0.439691 --> 0.395310).  Saving model ...\n",
            "Epoch:7 / 100, train loss:0.2309 train_acc:0.9286           valid loss:0.3653 valid acc:0.7875\n",
            "Validation loss decreased (0.395310 --> 0.365287).  Saving model ...\n",
            "Epoch:8 / 100, train loss:0.1795 train_acc:0.9397           valid loss:0.3681 valid acc:0.7812\n",
            "EarlyStopping counter: 1 out of 5\n",
            "Epoch:9 / 100, train loss:0.1200 train_acc:0.9643           valid loss:0.4040 valid acc:0.7875\n",
            "EarlyStopping counter: 2 out of 5\n",
            "Epoch:10 / 100, train loss:0.0951 train_acc:0.9688           valid loss:0.3814 valid acc:0.8063\n",
            "EarlyStopping counter: 3 out of 5\n",
            "Epoch:11 / 100, train loss:0.0701 train_acc:0.9821           valid loss:0.3765 valid acc:0.8250\n",
            "EarlyStopping counter: 4 out of 5\n",
            "Epoch:12 / 100, train loss:0.0566 train_acc:0.9821           valid loss:0.3714 valid acc:0.8250\n",
            "EarlyStopping counter: 5 out of 5\n",
            "Early stopping\n"
          ]
        }
      ]
    },
    {
      "cell_type": "code",
      "source": [
        "epochs = range(1, len(history_pre['train_loss']) + 1)\n",
        "\n",
        "plt.plot(epochs, history_pre['train_loss'], 'r-', label='Train')\n",
        "plt.plot(epochs, history_pre['test_loss'], 'b-', label='Evaluation')\n",
        "\n",
        "plt.title('Loss')\n",
        "plt.xlabel('Epochs')\n",
        "plt.ylabel('Loss')\n",
        "plt.legend()\n",
        "\n",
        "plt.show()\n",
        "\n",
        "plt.plot(epochs, history_pre['train_acc'], 'r-', label='Train')\n",
        "plt.plot(epochs, history_pre['test_acc'], 'b-', label='Evaluation')\n",
        "\n",
        "plt.title('Accuracy')\n",
        "plt.xlabel('Epochs')\n",
        "plt.ylabel('Acc')\n",
        "plt.legend()\n",
        "\n",
        "plt.show()"
      ],
      "metadata": {
        "colab": {
          "base_uri": "https://localhost:8080/",
          "height": 627
        },
        "id": "-yIdy4i-t3u_",
        "outputId": "8c09a7a0-abad-4504-fba9-e9001b8dfd10"
      },
      "execution_count": null,
      "outputs": [
        {
          "output_type": "execute_result",
          "data": {
            "text/plain": [
              "[<matplotlib.lines.Line2D at 0x7ff0ed58aed0>]"
            ]
          },
          "metadata": {},
          "execution_count": 30
        },
        {
          "output_type": "execute_result",
          "data": {
            "text/plain": [
              "[<matplotlib.lines.Line2D at 0x7ff0ed597610>]"
            ]
          },
          "metadata": {},
          "execution_count": 30
        },
        {
          "output_type": "execute_result",
          "data": {
            "text/plain": [
              "Text(0.5, 1.0, 'Loss')"
            ]
          },
          "metadata": {},
          "execution_count": 30
        },
        {
          "output_type": "execute_result",
          "data": {
            "text/plain": [
              "Text(0.5, 0, 'Epochs')"
            ]
          },
          "metadata": {},
          "execution_count": 30
        },
        {
          "output_type": "execute_result",
          "data": {
            "text/plain": [
              "Text(0, 0.5, 'Loss')"
            ]
          },
          "metadata": {},
          "execution_count": 30
        },
        {
          "output_type": "execute_result",
          "data": {
            "text/plain": [
              "<matplotlib.legend.Legend at 0x7ff0ed5d4b10>"
            ]
          },
          "metadata": {},
          "execution_count": 30
        },
        {
          "output_type": "display_data",
          "data": {
            "text/plain": [
              "<Figure size 432x288 with 1 Axes>"
            ],
            "image/png": "[encoded data removed]"
          },
          "metadata": {
            "needs_background": "light"
          }
        },
        {
          "output_type": "execute_result",
          "data": {
            "text/plain": [
              "[<matplotlib.lines.Line2D at 0x7ff0ed50ab10>]"
            ]
          },
          "metadata": {},
          "execution_count": 30
        },
        {
          "output_type": "execute_result",
          "data": {
            "text/plain": [
              "[<matplotlib.lines.Line2D at 0x7ff0ed516150>]"
            ]
          },
          "metadata": {},
          "execution_count": 30
        },
        {
          "output_type": "execute_result",
          "data": {
            "text/plain": [
              "Text(0.5, 1.0, 'Accuracy')"
            ]
          },
          "metadata": {},
          "execution_count": 30
        },
        {
          "output_type": "execute_result",
          "data": {
            "text/plain": [
              "Text(0.5, 0, 'Epochs')"
            ]
          },
          "metadata": {},
          "execution_count": 30
        },
        {
          "output_type": "execute_result",
          "data": {
            "text/plain": [
              "Text(0, 0.5, 'Acc')"
            ]
          },
          "metadata": {},
          "execution_count": 30
        },
        {
          "output_type": "execute_result",
          "data": {
            "text/plain": [
              "<matplotlib.legend.Legend at 0x7ff0ed4e5b50>"
            ]
          },
          "metadata": {},
          "execution_count": 30
        },
        {
          "output_type": "display_data",
          "data": {
            "text/plain": [
              "<Figure size 432x288 with 1 Axes>"
            ],
            "image/png": "[encoded data removed]"
          },
          "metadata": {
            "needs_background": "light"
          }
        }
      ]
    },
    {
      "cell_type": "code",
      "source": [
        "'''\n",
        "test_loader = DataLoader(test_data)\n",
        "cnn_model = model.to(device)\n",
        "cnn_model.eval()\n",
        "y_pred_list = []\n",
        "with torch.no_grad():\n",
        "    for x,y in test_loader:\n",
        "        x = x.to(device)\n",
        "        outputs = cnn_model(x)\n",
        "        score,pred = torch.max(outputs, 1)\n",
        "        y_pred_list.append(pred.cpu().detach().numpy()[0])\n",
        "\n",
        "y_true = y_test\n",
        "y_pred = np.array(y_pred_list)\n",
        "'''"
      ],
      "metadata": {
        "colab": {
          "base_uri": "https://localhost:8080/"
        },
        "id": "aHEOZUzKuvJd",
        "outputId": "79b6a303-e8b9-483c-d8aa-85f6fb95d87c"
      },
      "execution_count": null,
      "outputs": [
        {
          "output_type": "execute_result",
          "data": {
            "text/plain": [
              "VGG(\n",
              "  (features): Sequential(\n",
              "    (0): Conv2d(3, 64, kernel_size=(3, 3), stride=(1, 1), padding=(1, 1))\n",
              "    (1): BatchNorm2d(64, eps=1e-05, momentum=0.1, affine=True, track_running_stats=True)\n",
              "    (2): ReLU(inplace=True)\n",
              "    (3): Conv2d(64, 64, kernel_size=(3, 3), stride=(1, 1), padding=(1, 1))\n",
              "    (4): BatchNorm2d(64, eps=1e-05, momentum=0.1, affine=True, track_running_stats=True)\n",
              "    (5): ReLU(inplace=True)\n",
              "    (6): MaxPool2d(kernel_size=2, stride=2, padding=0, dilation=1, ceil_mode=False)\n",
              "    (7): Conv2d(64, 128, kernel_size=(3, 3), stride=(1, 1), padding=(1, 1))\n",
              "    (8): BatchNorm2d(128, eps=1e-05, momentum=0.1, affine=True, track_running_stats=True)\n",
              "    (9): ReLU(inplace=True)\n",
              "    (10): Conv2d(128, 128, kernel_size=(3, 3), stride=(1, 1), padding=(1, 1))\n",
              "    (11): BatchNorm2d(128, eps=1e-05, momentum=0.1, affine=True, track_running_stats=True)\n",
              "    (12): ReLU(inplace=True)\n",
              "    (13): MaxPool2d(kernel_size=2, stride=2, padding=0, dilation=1, ceil_mode=False)\n",
              "    (14): Conv2d(128, 256, kernel_size=(3, 3), stride=(1, 1), padding=(1, 1))\n",
              "    (15): BatchNorm2d(256, eps=1e-05, momentum=0.1, affine=True, track_running_stats=True)\n",
              "    (16): ReLU(inplace=True)\n",
              "    (17): Conv2d(256, 256, kernel_size=(3, 3), stride=(1, 1), padding=(1, 1))\n",
              "    (18): BatchNorm2d(256, eps=1e-05, momentum=0.1, affine=True, track_running_stats=True)\n",
              "    (19): ReLU(inplace=True)\n",
              "    (20): Conv2d(256, 256, kernel_size=(3, 3), stride=(1, 1), padding=(1, 1))\n",
              "    (21): BatchNorm2d(256, eps=1e-05, momentum=0.1, affine=True, track_running_stats=True)\n",
              "    (22): ReLU(inplace=True)\n",
              "    (23): Conv2d(256, 256, kernel_size=(3, 3), stride=(1, 1), padding=(1, 1))\n",
              "    (24): BatchNorm2d(256, eps=1e-05, momentum=0.1, affine=True, track_running_stats=True)\n",
              "    (25): ReLU(inplace=True)\n",
              "    (26): MaxPool2d(kernel_size=2, stride=2, padding=0, dilation=1, ceil_mode=False)\n",
              "    (27): Conv2d(256, 512, kernel_size=(3, 3), stride=(1, 1), padding=(1, 1))\n",
              "    (28): BatchNorm2d(512, eps=1e-05, momentum=0.1, affine=True, track_running_stats=True)\n",
              "    (29): ReLU(inplace=True)\n",
              "    (30): Conv2d(512, 512, kernel_size=(3, 3), stride=(1, 1), padding=(1, 1))\n",
              "    (31): BatchNorm2d(512, eps=1e-05, momentum=0.1, affine=True, track_running_stats=True)\n",
              "    (32): ReLU(inplace=True)\n",
              "    (33): Conv2d(512, 512, kernel_size=(3, 3), stride=(1, 1), padding=(1, 1))\n",
              "    (34): BatchNorm2d(512, eps=1e-05, momentum=0.1, affine=True, track_running_stats=True)\n",
              "    (35): ReLU(inplace=True)\n",
              "    (36): Conv2d(512, 512, kernel_size=(3, 3), stride=(1, 1), padding=(1, 1))\n",
              "    (37): BatchNorm2d(512, eps=1e-05, momentum=0.1, affine=True, track_running_stats=True)\n",
              "    (38): ReLU(inplace=True)\n",
              "    (39): MaxPool2d(kernel_size=2, stride=2, padding=0, dilation=1, ceil_mode=False)\n",
              "    (40): Conv2d(512, 512, kernel_size=(3, 3), stride=(1, 1), padding=(1, 1))\n",
              "    (41): BatchNorm2d(512, eps=1e-05, momentum=0.1, affine=True, track_running_stats=True)\n",
              "    (42): ReLU(inplace=True)\n",
              "    (43): Conv2d(512, 512, kernel_size=(3, 3), stride=(1, 1), padding=(1, 1))\n",
              "    (44): BatchNorm2d(512, eps=1e-05, momentum=0.1, affine=True, track_running_stats=True)\n",
              "    (45): ReLU(inplace=True)\n",
              "    (46): Conv2d(512, 512, kernel_size=(3, 3), stride=(1, 1), padding=(1, 1))\n",
              "    (47): BatchNorm2d(512, eps=1e-05, momentum=0.1, affine=True, track_running_stats=True)\n",
              "    (48): ReLU(inplace=True)\n",
              "    (49): Conv2d(512, 512, kernel_size=(3, 3), stride=(1, 1), padding=(1, 1))\n",
              "    (50): BatchNorm2d(512, eps=1e-05, momentum=0.1, affine=True, track_running_stats=True)\n",
              "    (51): ReLU(inplace=True)\n",
              "    (52): MaxPool2d(kernel_size=2, stride=2, padding=0, dilation=1, ceil_mode=False)\n",
              "  )\n",
              "  (avgpool): AdaptiveAvgPool2d(output_size=(7, 7))\n",
              "  (classifier): Sequential(\n",
              "    (0): Linear(in_features=25088, out_features=4096, bias=True)\n",
              "    (1): ReLU(inplace=True)\n",
              "    (2): Dropout(p=0.5, inplace=False)\n",
              "    (3): Linear(in_features=4096, out_features=4096, bias=True)\n",
              "    (4): ReLU(inplace=True)\n",
              "    (5): Dropout(p=0.5, inplace=False)\n",
              "    (6): Linear(in_features=4096, out_features=1, bias=True)\n",
              "  )\n",
              ")"
            ]
          },
          "metadata": {},
          "execution_count": 40
        }
      ]
    }
  ]
}