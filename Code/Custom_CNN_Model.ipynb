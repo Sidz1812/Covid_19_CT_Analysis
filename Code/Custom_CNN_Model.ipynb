{
  "nbformat": 4,
  "nbformat_minor": 0,
  "metadata": {
    "colab": {
      "name": "Custom CNN Model.ipynb",
      "provenance": [],
      "collapsed_sections": [],
      "machine_shape": "hm"
    },
    "kernelspec": {
      "display_name": "Python 3",
      "language": "python",
      "name": "python3"
    },
    "language_info": {
      "codemirror_mode": {
        "name": "ipython",
        "version": 3
      },
      "file_extension": ".py",
      "mimetype": "text/x-python",
      "name": "python",
      "nbconvert_exporter": "python",
      "pygments_lexer": "ipython3",
      "version": "3.9.0"
    },
    "latex_envs": {
      "LaTeX_envs_menu_present": true,
      "autoclose": false,
      "autocomplete": true,
      "bibliofile": "biblio.bib",
      "cite_by": "apalike",
      "current_citInitial": 1,
      "eqLabelWithNumbers": true,
      "eqNumInitial": 1,
      "hotkeys": {
        "equation": "Ctrl-E",
        "itemize": "Ctrl-I"
      },
      "labels_anchors": false,
      "latex_user_defs": false,
      "report_style_numbering": false,
      "user_envs_cfg": false
    },
    "toc": {
      "base_numbering": 1,
      "nav_menu": {},
      "number_sections": true,
      "sideBar": true,
      "skip_h1_title": false,
      "title_cell": "Table of Contents",
      "title_sidebar": "Contents",
      "toc_cell": true,
      "toc_position": {},
      "toc_section_display": true,
      "toc_window_display": false
    }
  },
  "cells": [
    {
      "cell_type": "markdown",
      "metadata": {
        "id": "SG6wegcfs1l6"
      },
      "source": [
        "Please first download the CT images\n",
        "- `COVID-19 CT scans`: https://github.com/UCSD-AI4H/COVID-CT/blob/master/Images-processed/CT_COVID.zip. In total, there are 349 images.\n",
        "- `Non-COVID-19 Scans`: https://github.com/UCSD-AI4H/COVID-CT/blob/master/Images-processed/CT_NonCOVID.zip. There are 397 images in total.\n",
        "\n",
        "This dataset may be a little small for CNN models. Let's just use this dataset to practice CNN models."
      ]
    },
    {
      "cell_type": "code",
      "metadata": {
        "id": "59j1VoETeiHh"
      },
      "source": [
        "! pip install torchinfo"
      ],
      "execution_count": null,
      "outputs": []
    },
    {
      "cell_type": "code",
      "metadata": {
        "colab": {
          "base_uri": "https://localhost:8080/"
        },
        "id": "yKTxSJY6d5PN",
        "outputId": "d4ff6ec0-0c26-4083-c4a4-31f4f7872f62"
      },
      "source": [
        "from google.colab import drive\n",
        "drive.mount('/content/drive')\n"
      ],
      "execution_count": null,
      "outputs": [
        {
          "output_type": "stream",
          "name": "stdout",
          "text": [
            "Mounted at /content/drive\n"
          ]
        }
      ]
    },
    {
      "cell_type": "markdown",
      "metadata": {
        "id": "REjuP9BJs1l7"
      },
      "source": [
        "### Data Preprocessing"
      ]
    },
    {
      "cell_type": "code",
      "metadata": {
        "ExecuteTime": {
          "end_time": "2020-11-12T08:59:53.163994Z",
          "start_time": "2020-11-12T08:59:50.479974Z"
        },
        "id": "VtyiMk6Ws1l7"
      },
      "source": [
        "import os\n",
        "import glo\n",
        "import sklearn\n",
        "import concurrent\n",
        "import numpy as np\n",
        "from PIL import Image\n",
        "import zipfile\n",
        "import shutil\n",
        "import random\n",
        "\n",
        "\n",
        "os.environ['CUDA_LAUNCH_BLOCKING'] = \"1\"\n",
        "\n",
        "# add your import here\n",
        "import torch\n",
        "import torch.nn as nn\n",
        "import torchvision\n",
        "import torchvision.transforms as transforms\n",
        "from torch.utils.data import DataLoader, random_split, Dataset\n",
        "from torchinfo import summary\n",
        "from sklearn.model_selection import train_test_split\n",
        "import matplotlib.pyplot as plt\n",
        "\n",
        "from IPython.core.interactiveshell import InteractiveShell\n",
        "InteractiveShell.ast_node_interactivity = \"all\"\n",
        "\n",
        "os.environ['CUDA_LAUNCH_BLOCKING'] = \"1\""
      ],
      "execution_count": null,
      "outputs": []
    },
    {
      "cell_type": "code",
      "metadata": {
        "id": "uxJYpmsjs1l8",
        "colab": {
          "base_uri": "https://localhost:8080/"
        },
        "outputId": "6d98789d-40e4-48a9-81ae-e2401e1d6c9e"
      },
      "source": [
        "# set random seed to so that work can be replicated\n",
        "\n",
        "random_seed = 124\n",
        "np.random.seed(random_seed)\n",
        "\n",
        "torch.manual_seed(random_seed)\n",
        "torch.backends.cudnn.deterministic = True"
      ],
      "execution_count": null,
      "outputs": [
        {
          "output_type": "execute_result",
          "data": {
            "text/plain": [
              "<torch._C.Generator at 0x7f663fec9c70>"
            ]
          },
          "metadata": {},
          "execution_count": 4
        }
      ]
    },
    {
      "cell_type": "code",
      "metadata": {
        "id": "trpq0JQyI7gN"
      },
      "source": [
        "device = torch.device(\"cuda\" if torch.cuda.is_available() else \"cpu\")"
      ],
      "execution_count": null,
      "outputs": []
    },
    {
      "cell_type": "code",
      "metadata": {
        "id": "4nsLOYvHs1l8"
      },
      "source": [
        "# load data and split data to train, evaluation and test\n",
        "cur_path = \"/content/drive/MyDrive/COVID\"\n",
        "pos_files = [f for f in glob.glob(os.path.join(cur_path, 'CT_COVID','*.*'))]\n",
        "neg_files = [f for f in  glob.glob(os.path.join(cur_path, 'CT_NonCOVID','*.*'))]\n",
        "\n",
        "images = pos_files + neg_files\n",
        "labels = np.array([1]*len(pos_files)+[0]*len(neg_files))\n",
        "\n",
        "images_tv, images_test, y_tv, y_test  = train_test_split(images, labels, shuffle=True, test_size=0.2, random_state=123)\n",
        "images_train, images_val, y_train, y_val  = train_test_split(images_tv, y_tv, shuffle=True, test_size=0.25, random_state=123)"
      ],
      "execution_count": null,
      "outputs": []
    },
    {
      "cell_type": "code",
      "metadata": {
        "colab": {
          "base_uri": "https://localhost:8080/"
        },
        "id": "DeV04OaDs1l9",
        "outputId": "29846b1f-d2c4-45cf-d41f-45eeb8e0e59e"
      },
      "source": [
        "print(len(y_train), len(y_val), len(y_test))\n",
        "\n",
        "print(y_train.sum(), y_val.sum(), y_test.sum())"
      ],
      "execution_count": null,
      "outputs": [
        {
          "output_type": "stream",
          "name": "stdout",
          "text": [
            "447 149 150\n",
            "207 71 71\n"
          ]
        }
      ]
    },
    {
      "cell_type": "code",
      "metadata": {
        "id": "gySW74Kys1l9"
      },
      "source": [
        "# create Dataset class\n",
        "\n",
        "class CT_Dataset(Dataset):\n",
        "    def __init__(self, img_path, img_labels, img_transforms=None):\n",
        "        self.img_path = img_path\n",
        "        self.img_labels = torch.Tensor(img_labels)\n",
        "        # if img_transforms is None:\n",
        "        #     self.transforms = transforms.ToTensor()\n",
        "        # else:\n",
        "        self.transforms = img_transforms\n",
        "    \n",
        "    def __getitem__(self, index):\n",
        "        cur_path = self.img_path[index] \n",
        "        cur_img = Image.open(cur_path).convert('RGB')\n",
        "        cur_img = self.transforms(cur_img)\n",
        "        return cur_img, self.img_labels[index]\n",
        "    \n",
        "    def __len__(self):\n",
        "        return len(self.img_path)\n",
        "    "
      ],
      "execution_count": null,
      "outputs": []
    },
    {
      "cell_type": "code",
      "metadata": {
        "id": "RaGtf1NVi5GG"
      },
      "source": [
        "resize_transforms = transforms.Compose([\n",
        "                                        transforms.Resize((250, 250)),\n",
        "                                        transforms.Grayscale(num_output_channels=1), \n",
        "                                        transforms.ToTensor()\n",
        "                                        ])"
      ],
      "execution_count": null,
      "outputs": []
    },
    {
      "cell_type": "code",
      "metadata": {
        "id": "KfZZ7Q7MaQpD"
      },
      "source": [
        "# images_train, images_val, y_train, y_val\n",
        "train_data = CT_Dataset(images_train, y_train, img_transforms=resize_transforms)\n",
        "test_data = CT_Dataset(images_val, y_val, img_transforms=resize_transforms) \n"
      ],
      "execution_count": null,
      "outputs": []
    },
    {
      "cell_type": "markdown",
      "metadata": {
        "id": "8-9dcNC0s1l9"
      },
      "source": [
        "### Build Model \n"
      ]
    },
    {
      "cell_type": "code",
      "metadata": {
        "id": "EuKB1BUqs1l-"
      },
      "source": [
        "# define CNN mode\n",
        "\n",
        "class Convnet(nn.Module):\n",
        "    def __init__(self, dropout_ratio=0.3):\n",
        "        super(Convnet, self).__init__()\n",
        "        # conv net 1, 250, 250 \n",
        "        self.convnet = nn.Sequential(\n",
        "            nn.Conv2d(in_channels=1, out_channels=18, kernel_size=3),  \n",
        "            nn.ReLU(),\n",
        "            nn.MaxPool2d(kernel_size=2),\n",
        "            \n",
        "            nn.Conv2d(in_channels=18, out_channels=32, kernel_size=5),  \n",
        "            nn.Flatten() \n",
        "        )\n",
        "        # classifier\n",
        "        self.classifier = nn.Sequential(\n",
        "            nn.Dropout(dropout_ratio),\n",
        "            nn.Linear(in_features=460800, out_features=32), \n",
        "            nn.ReLU(),\n",
        "            nn.Linear(in_features=32, out_features=1)\n",
        "        )\n",
        "    def forward(self, x):\n",
        "        x = self.convnet(x)\n",
        "        x = self.classifier(x)\n",
        "\n",
        "        return x"
      ],
      "execution_count": null,
      "outputs": []
    },
    {
      "cell_type": "markdown",
      "metadata": {
        "id": "LKCZfOPPs1l-"
      },
      "source": [
        "###  Fit your model \n",
        "\n"
      ]
    },
    {
      "cell_type": "code",
      "metadata": {
        "id": "X45Q2k03cHE-"
      },
      "source": [
        "class EarlyStopping:\n",
        "    \"\"\"Early stops the training if validation loss doesn't improve after a given patience.\"\"\"\n",
        "    def __init__(self, patience=7, verbose=False, delta=0, path='checkpoint.pt', trace_func=print):\n",
        "        \"\"\"\n",
        "        Arg\n",
        "            patience (int): How long to wait after last time validation loss improved.\n",
        "                            Default: 7\n",
        "            verbose (bool): If True, prints a message for each validation loss improvement. \n",
        "                            Default: False\n",
        "            delta (float): Minimum change in the monitored quantity to qualify as an improvement.\n",
        "                            Default: 0\n",
        "            path (str): Path for the checkpoint to be saved to.\n",
        "                            Default: 'checkpoint.pt'\n",
        "            trace_func (function): trace print function.\n",
        "                            Default: print            \n",
        "        \"\"\"\n",
        "        self.patience = patience\n",
        "        self.verbose = verbose\n",
        "        self.counter = 0\n",
        "        self.best_score = None\n",
        "        self.early_stop = False\n",
        "        self.val_loss_min = np.Inf\n",
        "        self.delta = delta\n",
        "        self.path = path\n",
        "        self.trace_func = trace_func\n",
        "    def __call__(self, val_loss, model):\n",
        "\n",
        "        score = -val_loss\n",
        "\n",
        "        if self.best_score is None:\n",
        "            self.best_score = score\n",
        "            # self.save_checkpoint(val_loss, model)\n",
        "        elif score < self.best_score + self.delta:\n",
        "            self.counter += 1\n",
        "            self.trace_func(f'EarlyStopping counter: {self.counter} out of {self.patience}')\n",
        "            if self.counter >= self.patience:\n",
        "                self.early_stop = True\n",
        "        else:\n",
        "            self.best_score = score\n",
        "            self.save_checkpoint(val_loss, model)\n",
        "            self.counter = 0\n",
        "\n",
        "    def save_checkpoint(self, val_loss, model):\n",
        "        '''Saves model when validation loss decrease.'''\n",
        "        if self.verbose:\n",
        "            self.trace_func(f'Validation loss decreased ({self.val_loss_min:.6f} --> {val_loss:.6f}).  Saving model ...')\n",
        "        torch.save(model.state_dict(), self.path)\n",
        "        self.val_loss_min = val_loss\n"
      ],
      "execution_count": null,
      "outputs": []
    },
    {
      "cell_type": "code",
      "metadata": {
        "id": "2pLvlcL3s1l-"
      },
      "source": [
        "# define training function\n",
        "\n",
        "def train_model(model, train_dataset, test_dataset, device, \n",
        "                lr=0.0001, epochs=30, batch_size=32):\n",
        "    # construct dataloader\n",
        "    train_loader = DataLoader(train_dataset, batch_size=batch_size, shuffle=True)\n",
        "    test_loader = DataLoader(test_dataset, batch_size=batch_size, shuffle=False)\n",
        "\n",
        "    # move model to device\n",
        "    model = model.to(device)\n",
        "    early_stopping = EarlyStopping(patience=5, verbose=True)\n",
        "\n",
        "    # history\n",
        "    history = {'train_loss': [],\n",
        "               'train_acc': [],\n",
        "               'test_loss': [],\n",
        "               'test_acc': []}\n",
        "    # setup loss function and optimizer\n",
        "    criterion = nn.BCEWithLogitsLoss()\n",
        "    optimizer = torch.optim.Adam(model.parameters(), lr=lr)\n",
        "    # training loop\n",
        "    print('Training Starts ')\n",
        "    for epoch in range(epochs):\n",
        "        model.train()\n",
        "        train_loss = 0\n",
        "        train_acc = 0\n",
        "        test_loss = 0\n",
        "        test_acc = 0\n",
        "        \n",
        "        for x, y in train_loader:\n",
        "            # move data to device\n",
        "            # print(\"what the\")\n",
        "            x = x.to(device)\n",
        "            y = y.to(device)\n",
        "            # forward\n",
        "            outputs = model(x).view(-1)  # (num_batch)\n",
        "            # print(outputs.shape)\n",
        "            # print(y.shape)\n",
        "            cur_train_loss = criterion(outputs, y)\n",
        "            pred = torch.sigmoid(outputs)\n",
        "            pred = torch.round(pred)\n",
        "            cur_train_acc = (pred == y).sum().item() / batch_size\n",
        "            # backward\n",
        "            cur_train_loss.backward()\n",
        "            optimizer.step()\n",
        "            optimizer.zero_grad()\n",
        "            # loss and acc\n",
        "            train_loss += cur_train_loss\n",
        "            train_acc += cur_train_acc\n",
        "\n",
        "        # test start\n",
        "        model.eval()\n",
        "        with torch.no_grad():\n",
        "            for x, y in test_loader:\n",
        "                # move\n",
        "                x = x.to(device)\n",
        "                y = y.to(device)\n",
        "                # predict\n",
        "                outputs = model(x).view(-1)\n",
        "                pred = torch.round(torch.sigmoid(outputs))\n",
        "                cur_test_loss = criterion(outputs, y)\n",
        "                cur_test_acc = (pred == y).sum().item() / batch_size \n",
        "                # loss and acc\n",
        "                test_loss += cur_test_loss\n",
        "                test_acc += cur_test_acc\n",
        "\n",
        "        # epoch output\n",
        "        train_loss = (train_loss/len(train_loader)).item()\n",
        "        train_acc = train_acc/len(train_loader)\n",
        "        val_loss = (test_loss/len(test_loader)).item()\n",
        "        val_acc = test_acc/len(test_loader)\n",
        "        history['train_loss'].append(train_loss)\n",
        "        history['train_acc'].append(train_acc)\n",
        "        history['test_loss'].append(val_loss)\n",
        "        history['test_acc'].append(val_acc)\n",
        "        print(f\"Epoch:{epoch + 1} / {epochs}, train loss:{train_loss:.4f} train_acc:{train_acc:.4f}           valid loss:{val_loss:.4f} valid acc:{val_acc:.4f}\")\n",
        "\n",
        "        early_stopping(val_loss, model)\n",
        "        if early_stopping.early_stop:\n",
        "            print(\"Early stopping\")\n",
        "            break\n",
        "    \n",
        "    return history\n",
        "    "
      ],
      "execution_count": null,
      "outputs": []
    },
    {
      "cell_type": "code",
      "metadata": {
        "id": "3SPY8jGzs1l_",
        "colab": {
          "base_uri": "https://localhost:8080/"
        },
        "outputId": "0e93537c-894d-465d-9b71-31f96b2e5fdc"
      },
      "source": [
        "# Train the CNN model\n",
        "\n",
        "cnn_model = Convnet(dropout_ratio=0.4)\n",
        "device = torch.device(\"cuda\" if torch.cuda.is_available() else \"cpu\")\n",
        "history = train_model(cnn_model, train_data, test_data, device, batch_size=32, epochs=100, lr=0.00001)"
      ],
      "execution_count": null,
      "outputs": [
        {
          "output_type": "stream",
          "name": "stdout",
          "text": [
            "Training Starts \n",
            "Epoch:1 / 100, train loss:0.6985 train_acc:0.5290           valid loss:0.6740 valid acc:0.4938\n",
            "Epoch:2 / 100, train loss:0.6700 train_acc:0.5737           valid loss:0.6696 valid acc:0.5062\n",
            "Validation loss decreased (inf --> 0.669575).  Saving model ...\n",
            "Epoch:3 / 100, train loss:0.6431 train_acc:0.6138           valid loss:0.6443 valid acc:0.6125\n",
            "Validation loss decreased (0.669575 --> 0.644343).  Saving model ...\n",
            "Epoch:4 / 100, train loss:0.6256 train_acc:0.6496           valid loss:0.6324 valid acc:0.6312\n",
            "Validation loss decreased (0.644343 --> 0.632351).  Saving model ...\n",
            "Epoch:5 / 100, train loss:0.6130 train_acc:0.6853           valid loss:0.6263 valid acc:0.6250\n",
            "Validation loss decreased (0.632351 --> 0.626290).  Saving model ...\n",
            "Epoch:6 / 100, train loss:0.5983 train_acc:0.6987           valid loss:0.6232 valid acc:0.6000\n",
            "Validation loss decreased (0.626290 --> 0.623230).  Saving model ...\n",
            "Epoch:7 / 100, train loss:0.5913 train_acc:0.7009           valid loss:0.6135 valid acc:0.6000\n",
            "Validation loss decreased (0.623230 --> 0.613512).  Saving model ...\n",
            "Epoch:8 / 100, train loss:0.5736 train_acc:0.7098           valid loss:0.6027 valid acc:0.6687\n",
            "Validation loss decreased (0.613512 --> 0.602695).  Saving model ...\n",
            "Epoch:9 / 100, train loss:0.5637 train_acc:0.7277           valid loss:0.5991 valid acc:0.6250\n",
            "Validation loss decreased (0.602695 --> 0.599104).  Saving model ...\n",
            "Epoch:10 / 100, train loss:0.5561 train_acc:0.7254           valid loss:0.5941 valid acc:0.6250\n",
            "Validation loss decreased (0.599104 --> 0.594092).  Saving model ...\n",
            "Epoch:11 / 100, train loss:0.5437 train_acc:0.7478           valid loss:0.5853 valid acc:0.6687\n",
            "Validation loss decreased (0.594092 --> 0.585290).  Saving model ...\n",
            "Epoch:12 / 100, train loss:0.5364 train_acc:0.7411           valid loss:0.5837 valid acc:0.6375\n",
            "Validation loss decreased (0.585290 --> 0.583674).  Saving model ...\n",
            "Epoch:13 / 100, train loss:0.5311 train_acc:0.7455           valid loss:0.5825 valid acc:0.6500\n",
            "Validation loss decreased (0.583674 --> 0.582491).  Saving model ...\n",
            "Epoch:14 / 100, train loss:0.5289 train_acc:0.7567           valid loss:0.5746 valid acc:0.6813\n",
            "Validation loss decreased (0.582491 --> 0.574638).  Saving model ...\n",
            "Epoch:15 / 100, train loss:0.5099 train_acc:0.7679           valid loss:0.6073 valid acc:0.5813\n",
            "EarlyStopping counter: 1 out of 5\n",
            "Epoch:16 / 100, train loss:0.5071 train_acc:0.7656           valid loss:0.5765 valid acc:0.6562\n",
            "EarlyStopping counter: 2 out of 5\n",
            "Epoch:17 / 100, train loss:0.4990 train_acc:0.7656           valid loss:0.5940 valid acc:0.6125\n",
            "EarlyStopping counter: 3 out of 5\n",
            "Epoch:18 / 100, train loss:0.5001 train_acc:0.7679           valid loss:0.5651 valid acc:0.6562\n",
            "Validation loss decreased (0.574638 --> 0.565110).  Saving model ...\n",
            "Epoch:19 / 100, train loss:0.4783 train_acc:0.7902           valid loss:0.5782 valid acc:0.6687\n",
            "EarlyStopping counter: 1 out of 5\n",
            "Epoch:20 / 100, train loss:0.4912 train_acc:0.7589           valid loss:0.5586 valid acc:0.6687\n",
            "Validation loss decreased (0.565110 --> 0.558577).  Saving model ...\n",
            "Epoch:21 / 100, train loss:0.4727 train_acc:0.7812           valid loss:0.5571 valid acc:0.6813\n",
            "Validation loss decreased (0.558577 --> 0.557093).  Saving model ...\n",
            "Epoch:22 / 100, train loss:0.4641 train_acc:0.7902           valid loss:0.5574 valid acc:0.6625\n",
            "EarlyStopping counter: 1 out of 5\n",
            "Epoch:23 / 100, train loss:0.4555 train_acc:0.8147           valid loss:0.5532 valid acc:0.6813\n",
            "Validation loss decreased (0.557093 --> 0.553236).  Saving model ...\n",
            "Epoch:24 / 100, train loss:0.4510 train_acc:0.7924           valid loss:0.5521 valid acc:0.6875\n",
            "Validation loss decreased (0.553236 --> 0.552123).  Saving model ...\n",
            "Epoch:25 / 100, train loss:0.4469 train_acc:0.8125           valid loss:0.5644 valid acc:0.6500\n",
            "EarlyStopping counter: 1 out of 5\n",
            "Epoch:26 / 100, train loss:0.4477 train_acc:0.8147           valid loss:0.5858 valid acc:0.6250\n",
            "EarlyStopping counter: 2 out of 5\n",
            "Epoch:27 / 100, train loss:0.4460 train_acc:0.7924           valid loss:0.5679 valid acc:0.6375\n",
            "EarlyStopping counter: 3 out of 5\n",
            "Epoch:28 / 100, train loss:0.4308 train_acc:0.8237           valid loss:0.5479 valid acc:0.6813\n",
            "Validation loss decreased (0.552123 --> 0.547938).  Saving model ...\n",
            "Epoch:29 / 100, train loss:0.4400 train_acc:0.8214           valid loss:0.5497 valid acc:0.6875\n",
            "EarlyStopping counter: 1 out of 5\n",
            "Epoch:30 / 100, train loss:0.4231 train_acc:0.8259           valid loss:0.5469 valid acc:0.6750\n",
            "Validation loss decreased (0.547938 --> 0.546858).  Saving model ...\n",
            "Epoch:31 / 100, train loss:0.4302 train_acc:0.8147           valid loss:0.5500 valid acc:0.6937\n",
            "EarlyStopping counter: 1 out of 5\n",
            "Epoch:32 / 100, train loss:0.4202 train_acc:0.8147           valid loss:0.5444 valid acc:0.6750\n",
            "Validation loss decreased (0.546858 --> 0.544368).  Saving model ...\n",
            "Epoch:33 / 100, train loss:0.4116 train_acc:0.8125           valid loss:0.5441 valid acc:0.6813\n",
            "Validation loss decreased (0.544368 --> 0.544065).  Saving model ...\n",
            "Epoch:34 / 100, train loss:0.4239 train_acc:0.8147           valid loss:0.5654 valid acc:0.6375\n",
            "EarlyStopping counter: 1 out of 5\n",
            "Epoch:35 / 100, train loss:0.4279 train_acc:0.8326           valid loss:0.5675 valid acc:0.6312\n",
            "EarlyStopping counter: 2 out of 5\n",
            "Epoch:36 / 100, train loss:0.3960 train_acc:0.8393           valid loss:0.5438 valid acc:0.6750\n",
            "Validation loss decreased (0.544065 --> 0.543806).  Saving model ...\n",
            "Epoch:37 / 100, train loss:0.3918 train_acc:0.8460           valid loss:0.5493 valid acc:0.6750\n",
            "EarlyStopping counter: 1 out of 5\n",
            "Epoch:38 / 100, train loss:0.3922 train_acc:0.8214           valid loss:0.5564 valid acc:0.6687\n",
            "EarlyStopping counter: 2 out of 5\n",
            "Epoch:39 / 100, train loss:0.3848 train_acc:0.8504           valid loss:0.5551 valid acc:0.6687\n",
            "EarlyStopping counter: 3 out of 5\n",
            "Epoch:40 / 100, train loss:0.3821 train_acc:0.8504           valid loss:0.5433 valid acc:0.6687\n",
            "Validation loss decreased (0.543806 --> 0.543284).  Saving model ...\n",
            "Epoch:41 / 100, train loss:0.3757 train_acc:0.8594           valid loss:0.5599 valid acc:0.6562\n",
            "EarlyStopping counter: 1 out of 5\n",
            "Epoch:42 / 100, train loss:0.4151 train_acc:0.8125           valid loss:0.5489 valid acc:0.6687\n",
            "EarlyStopping counter: 2 out of 5\n",
            "Epoch:43 / 100, train loss:0.3803 train_acc:0.8594           valid loss:0.5385 valid acc:0.6875\n",
            "Validation loss decreased (0.543284 --> 0.538494).  Saving model ...\n",
            "Epoch:44 / 100, train loss:0.3636 train_acc:0.8504           valid loss:0.5694 valid acc:0.6500\n",
            "EarlyStopping counter: 1 out of 5\n",
            "Epoch:45 / 100, train loss:0.3660 train_acc:0.8661           valid loss:0.5393 valid acc:0.6687\n",
            "EarlyStopping counter: 2 out of 5\n",
            "Epoch:46 / 100, train loss:0.3652 train_acc:0.8683           valid loss:0.5603 valid acc:0.6562\n",
            "EarlyStopping counter: 3 out of 5\n",
            "Epoch:47 / 100, train loss:0.3606 train_acc:0.8549           valid loss:0.5635 valid acc:0.6500\n",
            "EarlyStopping counter: 4 out of 5\n",
            "Epoch:48 / 100, train loss:0.3529 train_acc:0.8772           valid loss:0.5388 valid acc:0.6813\n",
            "EarlyStopping counter: 5 out of 5\n",
            "Early stopping\n"
          ]
        }
      ]
    },
    {
      "cell_type": "code",
      "metadata": {
        "id": "9UM69BMws1mA",
        "colab": {
          "base_uri": "https://localhost:8080/",
          "height": 641
        },
        "outputId": "478b2ef8-f2b9-44ad-f1bf-4b3d5573bf1f"
      },
      "source": [
        "# plot training curves\n",
        "\n",
        "epochs = range(1, len(history['train_loss']) + 1)\n",
        "\n",
        "plt.plot(epochs, history['train_loss'], 'r-', label='Train')\n",
        "plt.plot(epochs, history['test_loss'], 'b-', label='Evaluation')\n",
        "\n",
        "plt.title('Loss')\n",
        "plt.xlabel('Epochs')\n",
        "plt.ylabel('Loss')\n",
        "plt.legend()\n",
        "\n",
        "plt.show()\n",
        "\n",
        "plt.plot(epochs, history['train_acc'], 'r-', label='Train')\n",
        "plt.plot(epochs, history['test_acc'], 'b-', label='Evaluation')\n",
        "\n",
        "plt.title('Accuracy')\n",
        "plt.xlabel('Epochs')\n",
        "plt.ylabel('Acc')\n",
        "plt.legend()\n",
        "\n",
        "plt.show()"
      ],
      "execution_count": null,
      "outputs": [
        {
          "output_type": "execute_result",
          "data": {
            "text/plain": [
              "[<matplotlib.lines.Line2D at 0x7f6638ccb210>]"
            ]
          },
          "metadata": {},
          "execution_count": 30
        },
        {
          "output_type": "execute_result",
          "data": {
            "text/plain": [
              "[<matplotlib.lines.Line2D at 0x7f6638c4e210>]"
            ]
          },
          "metadata": {},
          "execution_count": 30
        },
        {
          "output_type": "execute_result",
          "data": {
            "text/plain": [
              "Text(0.5, 1.0, 'Loss')"
            ]
          },
          "metadata": {},
          "execution_count": 30
        },
        {
          "output_type": "execute_result",
          "data": {
            "text/plain": [
              "Text(0.5, 0, 'Epochs')"
            ]
          },
          "metadata": {},
          "execution_count": 30
        },
        {
          "output_type": "execute_result",
          "data": {
            "text/plain": [
              "Text(0, 0.5, 'Loss')"
            ]
          },
          "metadata": {},
          "execution_count": 30
        },
        {
          "output_type": "execute_result",
          "data": {
            "text/plain": [
              "<matplotlib.legend.Legend at 0x7f6638c98b90>"
            ]
          },
          "metadata": {},
          "execution_count": 30
        },
        {
          "output_type": "display_data",
          "data": {
            "image/png": "[encoded data removed]",
            "text/plain": [
              "<Figure size 432x288 with 1 Axes>"
            ]
          },
          "metadata": {
            "needs_background": "light"
          }
        },
        {
          "output_type": "execute_result",
          "data": {
            "text/plain": [
              "[<matplotlib.lines.Line2D at 0x7f663874a290>]"
            ]
          },
          "metadata": {},
          "execution_count": 30
        },
        {
          "output_type": "execute_result",
          "data": {
            "text/plain": [
              "[<matplotlib.lines.Line2D at 0x7f663874a850>]"
            ]
          },
          "metadata": {},
          "execution_count": 30
        },
        {
          "output_type": "execute_result",
          "data": {
            "text/plain": [
              "Text(0.5, 1.0, 'Accuracy')"
            ]
          },
          "metadata": {},
          "execution_count": 30
        },
        {
          "output_type": "execute_result",
          "data": {
            "text/plain": [
              "Text(0.5, 0, 'Epochs')"
            ]
          },
          "metadata": {},
          "execution_count": 30
        },
        {
          "output_type": "execute_result",
          "data": {
            "text/plain": [
              "Text(0, 0.5, 'Acc')"
            ]
          },
          "metadata": {},
          "execution_count": 30
        },
        {
          "output_type": "execute_result",
          "data": {
            "text/plain": [
              "<matplotlib.legend.Legend at 0x7f6638c4e190>"
            ]
          },
          "metadata": {},
          "execution_count": 30
        },
        {
          "output_type": "display_data",
          "data": {
            "image/png": "[encoded data removed]",
            "text/plain": [
              "<Figure size 432x288 with 1 Axes>"
            ]
          },
          "metadata": {
            "needs_background": "light"
          }
        }
      ]
    },
    {
      "cell_type": "markdown",
      "metadata": {
        "id": "8bHxP9ijs1mB"
      },
      "source": [
        "### Using data augmentation "
      ]
    },
    {
      "cell_type": "code",
      "metadata": {
        "id": "QyCrHjfrX3gN"
      },
      "source": [
        "# add augmentation\n",
        "# train the model with augmented data\n",
        "\n",
        "\n",
        "data_augmentation = transforms.Compose([transforms.Grayscale(num_output_channels=1), \n",
        "                                        transforms.RandomRotation(5),\n",
        "                                        #transforms.RandomHorizontalFlip(p=0.5),\n",
        "                                         transforms.RandomVerticalFlip(p=0.5),\n",
        "                                        transforms.Resize((250, 250)),  \n",
        "                                        transforms.ToTensor()\n",
        "                                        ])\n",
        "train_data = CT_Dataset(images_train, y_train, img_transforms=data_augmentation)\n",
        "test_data = CT_Dataset(images_val, y_val, img_transforms=data_augmentation) "
      ],
      "execution_count": null,
      "outputs": []
    },
    {
      "cell_type": "code",
      "metadata": {
        "id": "uocOYoXBxzpL",
        "colab": {
          "base_uri": "https://localhost:8080/"
        },
        "outputId": "9da819a3-8899-4f52-efd2-f85c8a002414"
      },
      "source": [
        "# Train the CNN model\n",
        "cnn_model = Convnet()\n",
        "history = train_model(cnn_model, train_data, test_data, device, batch_size=32, epochs=100, lr=0.00001)"
      ],
      "execution_count": null,
      "outputs": [
        {
          "output_type": "stream",
          "name": "stdout",
          "text": [
            "Training Starts \n",
            "Epoch:1 / 100, train loss:0.6866 train_acc:0.5179           valid loss:0.6573 valid acc:0.5813\n",
            "Epoch:2 / 100, train loss:0.6378 train_acc:0.6540           valid loss:0.6285 valid acc:0.6125\n",
            "Validation loss decreased (inf --> 0.628542).  Saving model ...\n",
            "Epoch:3 / 100, train loss:0.6299 train_acc:0.6362           valid loss:0.6201 valid acc:0.6438\n",
            "Validation loss decreased (0.628542 --> 0.620146).  Saving model ...\n",
            "Epoch:4 / 100, train loss:0.6243 train_acc:0.6384           valid loss:0.6309 valid acc:0.5813\n",
            "EarlyStopping counter: 1 out of 5\n",
            "Epoch:5 / 100, train loss:0.6078 train_acc:0.6964           valid loss:0.6020 valid acc:0.6375\n",
            "Validation loss decreased (0.620146 --> 0.602007).  Saving model ...\n",
            "Epoch:6 / 100, train loss:0.5968 train_acc:0.6808           valid loss:0.6057 valid acc:0.6375\n",
            "EarlyStopping counter: 1 out of 5\n",
            "Epoch:7 / 100, train loss:0.5768 train_acc:0.7054           valid loss:0.6007 valid acc:0.6375\n",
            "Validation loss decreased (0.602007 --> 0.600669).  Saving model ...\n",
            "Epoch:8 / 100, train loss:0.5802 train_acc:0.6920           valid loss:0.5929 valid acc:0.6562\n",
            "Validation loss decreased (0.600669 --> 0.592893).  Saving model ...\n",
            "Epoch:9 / 100, train loss:0.5641 train_acc:0.6920           valid loss:0.5792 valid acc:0.6687\n",
            "Validation loss decreased (0.592893 --> 0.579247).  Saving model ...\n",
            "Epoch:10 / 100, train loss:0.5515 train_acc:0.7478           valid loss:0.5817 valid acc:0.6687\n",
            "EarlyStopping counter: 1 out of 5\n",
            "Epoch:11 / 100, train loss:0.5476 train_acc:0.7321           valid loss:0.5899 valid acc:0.6500\n",
            "EarlyStopping counter: 2 out of 5\n",
            "Epoch:12 / 100, train loss:0.5522 train_acc:0.7031           valid loss:0.5695 valid acc:0.6375\n",
            "Validation loss decreased (0.579247 --> 0.569543).  Saving model ...\n",
            "Epoch:13 / 100, train loss:0.5370 train_acc:0.7299           valid loss:0.5756 valid acc:0.6687\n",
            "EarlyStopping counter: 1 out of 5\n",
            "Epoch:14 / 100, train loss:0.5467 train_acc:0.7411           valid loss:0.5926 valid acc:0.6438\n",
            "EarlyStopping counter: 2 out of 5\n",
            "Epoch:15 / 100, train loss:0.5431 train_acc:0.7188           valid loss:0.5966 valid acc:0.6438\n",
            "EarlyStopping counter: 3 out of 5\n",
            "Epoch:16 / 100, train loss:0.5371 train_acc:0.7366           valid loss:0.5815 valid acc:0.6312\n",
            "EarlyStopping counter: 4 out of 5\n",
            "Epoch:17 / 100, train loss:0.5267 train_acc:0.7411           valid loss:0.5833 valid acc:0.6500\n",
            "EarlyStopping counter: 5 out of 5\n",
            "Early stopping\n"
          ]
        }
      ]
    },
    {
      "cell_type": "code",
      "metadata": {
        "id": "IZD3VIURyR7N",
        "colab": {
          "base_uri": "https://localhost:8080/",
          "height": 641
        },
        "outputId": "04057650-c501-49ec-f09e-560924125281"
      },
      "source": [
        "# plot training curves\n",
        "\n",
        "epochs = range(1, len(history['train_loss']) + 1)\n",
        "\n",
        "plt.plot(epochs, history['train_loss'], 'r-', label='Train')\n",
        "plt.plot(epochs, history['test_loss'], 'b-', label='Evaluation')\n",
        "\n",
        "plt.title('Loss')\n",
        "plt.xlabel('Epochs')\n",
        "plt.ylabel('Loss')\n",
        "plt.legend()\n",
        "\n",
        "plt.show()\n",
        "\n",
        "plt.plot(epochs, history['train_acc'], 'r-', label='Train')\n",
        "plt.plot(epochs, history['test_acc'], 'b-', label='Evaluation')\n",
        "\n",
        "plt.title('Accuracy')\n",
        "plt.xlabel('Epochs')\n",
        "plt.ylabel('Acc')\n",
        "plt.legend()\n",
        "\n",
        "plt.show()"
      ],
      "execution_count": null,
      "outputs": [
        {
          "output_type": "execute_result",
          "data": {
            "text/plain": [
              "[<matplotlib.lines.Line2D at 0x7f663864a250>]"
            ]
          },
          "metadata": {},
          "execution_count": 33
        },
        {
          "output_type": "execute_result",
          "data": {
            "text/plain": [
              "[<matplotlib.lines.Line2D at 0x7f663864a910>]"
            ]
          },
          "metadata": {},
          "execution_count": 33
        },
        {
          "output_type": "execute_result",
          "data": {
            "text/plain": [
              "Text(0.5, 1.0, 'Loss')"
            ]
          },
          "metadata": {},
          "execution_count": 33
        },
        {
          "output_type": "execute_result",
          "data": {
            "text/plain": [
              "Text(0.5, 0, 'Epochs')"
            ]
          },
          "metadata": {},
          "execution_count": 33
        },
        {
          "output_type": "execute_result",
          "data": {
            "text/plain": [
              "Text(0, 0.5, 'Loss')"
            ]
          },
          "metadata": {},
          "execution_count": 33
        },
        {
          "output_type": "execute_result",
          "data": {
            "text/plain": [
              "<matplotlib.legend.Legend at 0x7f663864acd0>"
            ]
          },
          "metadata": {},
          "execution_count": 33
        },
        {
          "output_type": "display_data",
          "data": {
            "image/png": "[encoded data removed]",
            "text/plain": [
              "<Figure size 432x288 with 1 Axes>"
            ]
          },
          "metadata": {
            "needs_background": "light"
          }
        },
        {
          "output_type": "execute_result",
          "data": {
            "text/plain": [
              "[<matplotlib.lines.Line2D at 0x7f66385c94d0>]"
            ]
          },
          "metadata": {},
          "execution_count": 33
        },
        {
          "output_type": "execute_result",
          "data": {
            "text/plain": [
              "[<matplotlib.lines.Line2D at 0x7f66385c99d0>]"
            ]
          },
          "metadata": {},
          "execution_count": 33
        },
        {
          "output_type": "execute_result",
          "data": {
            "text/plain": [
              "Text(0.5, 1.0, 'Accuracy')"
            ]
          },
          "metadata": {},
          "execution_count": 33
        },
        {
          "output_type": "execute_result",
          "data": {
            "text/plain": [
              "Text(0.5, 0, 'Epochs')"
            ]
          },
          "metadata": {},
          "execution_count": 33
        },
        {
          "output_type": "execute_result",
          "data": {
            "text/plain": [
              "Text(0, 0.5, 'Acc')"
            ]
          },
          "metadata": {},
          "execution_count": 33
        },
        {
          "output_type": "execute_result",
          "data": {
            "text/plain": [
              "<matplotlib.legend.Legend at 0x7f66386acf50>"
            ]
          },
          "metadata": {},
          "execution_count": 33
        },
        {
          "output_type": "display_data",
          "data": {
            "image/png": "[encoded data removed]",
            "text/plain": [
              "<Figure size 432x288 with 1 Axes>"
            ]
          },
          "metadata": {
            "needs_background": "light"
          }
        }
      ]
    }
  ]
}